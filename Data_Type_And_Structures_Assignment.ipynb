{
 "cells": [
  {
   "cell_type": "markdown",
   "metadata": {},
   "source": [
    "# Data_Type_And_Structures_Assignment"
   ]
  },
  {
   "cell_type": "code",
   "execution_count": 1,
   "metadata": {},
   "outputs": [
    {
     "name": "stdout",
     "output_type": "stream",
     "text": [
      "Vivek Bharti\n"
     ]
    }
   ],
   "source": [
    "# Write a code to create a string with your name and print it.\n",
    "\n",
    "my_name = \"Vivek Bharti\"\n",
    "print(my_name)\n"
   ]
  },
  {
   "cell_type": "code",
   "execution_count": 2,
   "metadata": {},
   "outputs": [
    {
     "name": "stdout",
     "output_type": "stream",
     "text": [
      "The length of the string is: 11\n"
     ]
    }
   ],
   "source": [
    "#Write a code to find the length of the string \"Hello World\".\n",
    "\n",
    "text = \"Hello World\"\n",
    "length = len(text)\n",
    "print(\"The length of the string is:\", length)\n"
   ]
  },
  {
   "cell_type": "code",
   "execution_count": 3,
   "metadata": {},
   "outputs": [
    {
     "name": "stdout",
     "output_type": "stream",
     "text": [
      "Pyt\n"
     ]
    }
   ],
   "source": [
    "# Write a code to slice the first 3 characters from the string \"Python Programming\".\n",
    "text = \"Python Programming\"\n",
    "sliced_text = text[:3]\n",
    "print(sliced_text)\n"
   ]
  },
  {
   "cell_type": "code",
   "execution_count": 4,
   "metadata": {},
   "outputs": [
    {
     "name": "stdout",
     "output_type": "stream",
     "text": [
      "HELLO\n"
     ]
    }
   ],
   "source": [
    "# Write a code to convert the string \"hello\" to uppercase.\n",
    "text = \"hello\"\n",
    "uppercase_text = text.upper()\n",
    "print(uppercase_text) \n"
   ]
  },
  {
   "cell_type": "code",
   "execution_count": 6,
   "metadata": {},
   "outputs": [
    {
     "name": "stdout",
     "output_type": "stream",
     "text": [
      "I like orange.\n"
     ]
    }
   ],
   "source": [
    "# Write a code to replace the word \"apple\" with \"orange\" in the string \"I like apple\".\n",
    "text = \"I like apple.\"\n",
    "\n",
    "updated_text = text.replace(\"apple\", \"orange\")\n",
    "\n",
    "print(updated_text)\n"
   ]
  },
  {
   "cell_type": "code",
   "execution_count": 7,
   "metadata": {},
   "outputs": [
    {
     "name": "stdout",
     "output_type": "stream",
     "text": [
      "[1, 2, 3, 4, 5]\n"
     ]
    }
   ],
   "source": [
    "# Write a code to create a list with numbers 1 to 5 and print it.\n",
    "\n",
    "numbers = [1, 2, 3, 4, 5]\n",
    "\n",
    "\n",
    "print(numbers)\n"
   ]
  },
  {
   "cell_type": "code",
   "execution_count": 8,
   "metadata": {},
   "outputs": [
    {
     "name": "stdout",
     "output_type": "stream",
     "text": [
      "[1, 2, 3, 4, 5, 10]\n"
     ]
    }
   ],
   "source": [
    "# Write a code to append the number 10 to the list [1, 2, 3, 4].\n",
    "\n",
    "my_list = [1, 2, 3, 4, 5]\n",
    "\n",
    "my_list.append(10)\n",
    "\n",
    "print(my_list)\n"
   ]
  },
  {
   "cell_type": "code",
   "execution_count": 9,
   "metadata": {},
   "outputs": [
    {
     "name": "stdout",
     "output_type": "stream",
     "text": [
      "[1, 2, 4, 5]\n"
     ]
    }
   ],
   "source": [
    "# Write a code to remove the number 3 from the list [1, 2, 3, 4, 5].\n",
    "\n",
    "numbers = [1, 2, 3, 4, 5]\n",
    "\n",
    "numbers.remove(3)\n",
    "\n",
    "print(numbers)"
   ]
  },
  {
   "cell_type": "code",
   "execution_count": 10,
   "metadata": {},
   "outputs": [
    {
     "name": "stdout",
     "output_type": "stream",
     "text": [
      "The second element is: b\n"
     ]
    }
   ],
   "source": [
    "# Write a code to access the second element in the list ['a', 'b', 'c', 'd'].\n",
    "\n",
    "my_list = ['a', 'b', 'c', 'd']\n",
    "\n",
    "second_element = my_list[1]\n",
    "\n",
    "print(\"The second element is:\", second_element)\n"
   ]
  },
  {
   "cell_type": "code",
   "execution_count": 12,
   "metadata": {},
   "outputs": [
    {
     "name": "stdout",
     "output_type": "stream",
     "text": [
      "50\n",
      "40\n",
      "30\n",
      "20\n",
      "10\n"
     ]
    }
   ],
   "source": [
    "# Write a code to reverse the list [10, 20, 30, 40, 50].\n",
    "\n",
    "my_list = [10, 20, 30, 40, 50]\n",
    "\n",
    "for i in range(len(my_list) - 1, -1, -1):\n",
    "    print(my_list[i])"
   ]
  },
  {
   "cell_type": "code",
   "execution_count": 13,
   "metadata": {},
   "outputs": [
    {
     "name": "stdout",
     "output_type": "stream",
     "text": [
      "(100, 200, 300)\n"
     ]
    }
   ],
   "source": [
    "# Write a code to create a tuple with the elements 100, 200, 300 and print it.\n",
    "my_tuple = (100, 200, 300)\n",
    "\n",
    "print(my_tuple)\n"
   ]
  },
  {
   "cell_type": "code",
   "execution_count": 14,
   "metadata": {},
   "outputs": [
    {
     "name": "stdout",
     "output_type": "stream",
     "text": [
      "blue\n"
     ]
    }
   ],
   "source": [
    "# Write a code to access the second-to-last element of the tuple ('red', 'green', 'blue', 'yellow').\n",
    "\n",
    "colors = ('red', 'green', 'blue', 'yellow')\n",
    "\n",
    "second_to_last = colors[-2]\n",
    "\n",
    "print(second_to_last)\n"
   ]
  },
  {
   "cell_type": "code",
   "execution_count": 15,
   "metadata": {},
   "outputs": [
    {
     "name": "stdout",
     "output_type": "stream",
     "text": [
      "The minimum number in the tuple is: 5\n"
     ]
    }
   ],
   "source": [
    "# Write a code to find the minimum number in the tuple (10, 20, 5, 15).\n",
    "\n",
    "numbers = (10, 20, 5, 15)\n",
    "\n",
    "minimum_number = min(numbers)\n",
    "\n",
    "print(\"The minimum number in the tuple is:\", minimum_number)\n"
   ]
  },
  {
   "cell_type": "code",
   "execution_count": 16,
   "metadata": {},
   "outputs": [
    {
     "name": "stdout",
     "output_type": "stream",
     "text": [
      "The index of 'cat' is: 1\n"
     ]
    }
   ],
   "source": [
    "# Write a code to find the index of the element \"cat\" in the tuple ('dog', 'cat', 'rabbit').\n",
    "\n",
    "animals = (\"dog\", \"cat\", \"rabbit\")\n",
    "\n",
    "index_of_cat = animals.index(\"cat\")\n",
    "\n",
    "\n",
    "print(f\"The index of 'cat' is: {index_of_cat}\")\n"
   ]
  },
  {
   "cell_type": "code",
   "execution_count": 18,
   "metadata": {},
   "outputs": [
    {
     "name": "stdout",
     "output_type": "stream",
     "text": [
      "Kiwi is not in the tuple.\n"
     ]
    }
   ],
   "source": [
    "# Write a code to create a tuple containing three different fruits and check if \"kiwi\" is in it.\n",
    "\n",
    "fruits = (\"orange\", \"grapes\", \"guava\")\n",
    "\n",
    "\n",
    "if \"kiwi\" in fruits:\n",
    "    print(\"Kiwi is in the tuple!\")\n",
    "else:\n",
    "    print(\"Kiwi is not in the tuple.\")\n"
   ]
  },
  {
   "cell_type": "code",
   "execution_count": 19,
   "metadata": {},
   "outputs": [
    {
     "name": "stdout",
     "output_type": "stream",
     "text": [
      "{'a', 'b', 'c'}\n"
     ]
    }
   ],
   "source": [
    "# Write a code to create a set with the elements 'a', 'b', 'c' and print it.\n",
    "\n",
    "my_set = {'a', 'b', 'c'}\n",
    "\n",
    "print(my_set)\n"
   ]
  },
  {
   "cell_type": "code",
   "execution_count": 20,
   "metadata": {},
   "outputs": [
    {
     "name": "stdout",
     "output_type": "stream",
     "text": [
      "set()\n"
     ]
    }
   ],
   "source": [
    "#  Write a code to clear all elements from the set {1, 2, 3, 4, 5}.\n",
    "\n",
    "my_set = {1, 2, 3, 4, 5}\n",
    "\n",
    "my_set.clear()\n",
    "\n",
    "print(my_set)  \n"
   ]
  },
  {
   "cell_type": "code",
   "execution_count": 22,
   "metadata": {},
   "outputs": [
    {
     "name": "stdout",
     "output_type": "stream",
     "text": [
      "{1, 2, 3}\n",
      "{1, 2, 3}\n"
     ]
    }
   ],
   "source": [
    "# Write a code to remove the element 4 from the set {1, 2, 3, 4}.\n",
    "\n",
    "my_set = {1, 2, 3, 4}\n",
    "\n",
    "my_set.remove(4)\n",
    "\n",
    "print(my_set) \n",
    "\n",
    "# using discard\n",
    "my_set = {1, 2, 3, 4}\n",
    "my_set.discard(4)\n",
    "print(my_set)  "
   ]
  },
  {
   "cell_type": "code",
   "execution_count": 23,
   "metadata": {},
   "outputs": [
    {
     "name": "stdout",
     "output_type": "stream",
     "text": [
      "Union of the sets: {1, 2, 3, 4, 5}\n"
     ]
    }
   ],
   "source": [
    "# Write a code to find the union of two sets {1, 2, 3} and {3, 4, 5}.\n",
    "# Define the sets\n",
    "set1 = {1, 2, 3}\n",
    "set2 = {3, 4, 5}\n",
    "\n",
    "union_set = set1.union(set2)\n",
    "\n",
    "print(\"Union of the sets:\", union_set)\n"
   ]
  },
  {
   "cell_type": "code",
   "execution_count": 24,
   "metadata": {},
   "outputs": [
    {
     "name": "stdout",
     "output_type": "stream",
     "text": [
      "Intersection of the sets: {2, 3}\n"
     ]
    }
   ],
   "source": [
    "# Write a code to find the intersection of two sets {1, 2, 3} and {2, 3, 4}.\n",
    "# Define the sets\n",
    "set1 = {1, 2, 3}\n",
    "set2 = {2, 3, 4}\n",
    "\n",
    "intersection = set1.intersection(set2)\n",
    "\n",
    "print(\"Intersection of the sets:\", intersection)\n"
   ]
  },
  {
   "cell_type": "code",
   "execution_count": 26,
   "metadata": {},
   "outputs": [
    {
     "name": "stdout",
     "output_type": "stream",
     "text": [
      "{'name': 'Vivek', 'age': 24, 'city': 'Bihar'}\n"
     ]
    }
   ],
   "source": [
    "# Write a code to create a dictionary with the keys \"name\", \"age\", and \"city\", and print it.\n",
    "# Creating the dictionary\n",
    "person = {\n",
    "    \"name\": \"Vivek\",\n",
    "    \"age\": 24,\n",
    "    \"city\": \"Bihar\"\n",
    "}\n",
    "\n",
    "print(person)\n"
   ]
  },
  {
   "cell_type": "code",
   "execution_count": 27,
   "metadata": {},
   "outputs": [
    {
     "name": "stdout",
     "output_type": "stream",
     "text": [
      "{'name': 'John', 'age': 25, 'country': 'USA'}\n"
     ]
    }
   ],
   "source": [
    "# Write a code to add a new key-value pair \"country\": \"USA\" to the dictionary {'name': 'John', 'age': 25}.\n",
    "\n",
    "person = {\"name\": \"John\", \"age\": 25}\n",
    "\n",
    "person[\"country\"] = \"USA\"\n",
    "\n",
    "print(person)\n",
    "\n"
   ]
  },
  {
   "cell_type": "code",
   "execution_count": 28,
   "metadata": {},
   "outputs": [
    {
     "name": "stdout",
     "output_type": "stream",
     "text": [
      "Alice\n"
     ]
    }
   ],
   "source": [
    "# Write a code to access the value associated with the key \"name\" in the dictionary {'name': 'Alice', 'age': 30}.\n",
    "\n",
    "person = {\"name\": \"Alice\", \"age\": 30}\n",
    "\n",
    "name_value = person[\"name\"]\n",
    "\n",
    "print(name_value)\n"
   ]
  },
  {
   "cell_type": "code",
   "execution_count": 29,
   "metadata": {},
   "outputs": [
    {
     "name": "stdout",
     "output_type": "stream",
     "text": [
      "{'name': 'bob', 'city': 'new york'}\n"
     ]
    }
   ],
   "source": [
    "# Write a code to remove the key \"age\" from the dictionary {'name': 'Bob', 'age': 22, 'city': 'New York'}.\n",
    "person = {\"name\": \"bob\", \"age\": 22, \"city\": \"new york\"}\n",
    "\n",
    "person.pop(\"age\", None)  \n",
    "\n",
    "print(person)\n"
   ]
  },
  {
   "cell_type": "code",
   "execution_count": 30,
   "metadata": {},
   "outputs": [
    {
     "name": "stdout",
     "output_type": "stream",
     "text": [
      "The key 'city' exists in the dictionary.\n"
     ]
    }
   ],
   "source": [
    "#  Write a code to check if the key \"city\" exists in the dictionary {'name': 'Alice', 'city': 'Paris'}.\n",
    "\n",
    "alice = {\"name\": \"Alice\", \"city\": \"Paris\"}\n",
    "\n",
    "if \"city\" in alice:\n",
    "    print(\"The key 'city' exists in the dictionary.\")\n",
    "else:\n",
    "    print(\"The key 'city' does not exist in the dictionary.\")\n"
   ]
  },
  {
   "cell_type": "code",
   "execution_count": 31,
   "metadata": {},
   "outputs": [
    {
     "name": "stdout",
     "output_type": "stream",
     "text": [
      "List: [1, 2, 3, 4, 5]\n",
      "Tuple: ('orange', 'grapes', 'guava')\n",
      "Dictionary: {'name': 'Vivek', 'age': 24, 'city': 'Patna'}\n"
     ]
    }
   ],
   "source": [
    "# Write a code to create a list, a tuple, and a dictionary, and print them all.\n",
    "\n",
    "my_list = [1, 2, 3, 4, 5]\n",
    "\n",
    "my_tuple = ('orange', 'grapes', 'guava')\n",
    "\n",
    "my_dict = {'name': 'Vivek', 'age': 24, 'city': 'Patna'}\n",
    "\n",
    "\n",
    "print(\"List:\", my_list)\n",
    "print(\"Tuple:\", my_tuple)\n",
    "print(\"Dictionary:\", my_dict)\n"
   ]
  },
  {
   "cell_type": "code",
   "execution_count": 32,
   "metadata": {},
   "outputs": [
    {
     "name": "stdout",
     "output_type": "stream",
     "text": [
      "Sorted list of random numbers: [17, 25, 41, 44, 73]\n"
     ]
    }
   ],
   "source": [
    "# Write a code to create a list of 5 random numbers between 1 and 100, sort it in ascending order, and print the\n",
    "# result.(replaced).\n",
    "import random\n",
    "\n",
    "random_numbers = [random.randint(1, 100) for _ in range(5)]\n",
    "random_numbers.sort()\n",
    "\n",
    "print(\"Sorted list of random numbers:\", random_numbers)\n",
    "\n"
   ]
  },
  {
   "cell_type": "code",
   "execution_count": 34,
   "metadata": {},
   "outputs": [
    {
     "name": "stdout",
     "output_type": "stream",
     "text": [
      "Element at the third index: guava\n"
     ]
    }
   ],
   "source": [
    "# Write a code to create a list with strings and print the element at the third index.\n",
    "\n",
    "my_list = [\"apple\", \"banana\", \"cherry\", \"guava\", \"blackberry\"]\n",
    "\n",
    "print(\"Element at the third index:\", my_list[3])\n"
   ]
  },
  {
   "cell_type": "code",
   "execution_count": 37,
   "metadata": {},
   "outputs": [
    {
     "name": "stdout",
     "output_type": "stream",
     "text": [
      "Combined Dictionary: {'a': 1, 'b': 2, 'c': 3, 'd': 4}\n"
     ]
    }
   ],
   "source": [
    "#  Write a code to combine two dictionaries into one and print the result.\n",
    "\n",
    "dict1 = {'a': 1, 'b': 2}\n",
    "dict2 = {'c': 3, 'd': 4}\n",
    "dict1.update(dict2)\n",
    "print(\"Combined Dictionary:\", combined_dict)\n"
   ]
  },
  {
   "cell_type": "code",
   "execution_count": 38,
   "metadata": {},
   "outputs": [
    {
     "name": "stdout",
     "output_type": "stream",
     "text": [
      "Original List: ['mango', 'banana', 'guava', 'grapes', 'banana']\n",
      "Converted Set: {'mango', 'grapes', 'banana', 'guava'}\n"
     ]
    }
   ],
   "source": [
    "# Write a code to convert a list of strings into a set.\n",
    "\n",
    "string_list = [\"mango\", \"banana\", \"guava\", \"grapes\", \"banana\"]\n",
    "\n",
    "string_set = set(string_list)\n",
    "\n",
    "print(\"Original List:\", string_list)\n",
    "print(\"Converted Set:\", string_set)\n"
   ]
  },
  {
   "cell_type": "code",
   "execution_count": null,
   "metadata": {},
   "outputs": [],
   "source": []
  }
 ],
 "metadata": {
  "kernelspec": {
   "display_name": "Python 3",
   "language": "python",
   "name": "python3"
  },
  "language_info": {
   "codemirror_mode": {
    "name": "ipython",
    "version": 3
   },
   "file_extension": ".py",
   "mimetype": "text/x-python",
   "name": "python",
   "nbconvert_exporter": "python",
   "pygments_lexer": "ipython3",
   "version": "3.8.5"
  }
 },
 "nbformat": 4,
 "nbformat_minor": 4
}
